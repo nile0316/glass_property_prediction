{
 "cells": [
  {
   "cell_type": "markdown",
   "metadata": {},
   "source": [
    "# A notebook on predicting glass properties from compositions"
   ]
  },
  {
   "cell_type": "code",
   "execution_count": 1,
   "metadata": {},
   "outputs": [],
   "source": [
    "import numpy as np\n",
    "import pandas as pd\n",
    "%matplotlib inline\n",
    "import matplotlib.pyplot as plt\n",
    "import seaborn as sns"
   ]
  },
  {
   "cell_type": "code",
   "execution_count": 3,
   "metadata": {},
   "outputs": [
    {
     "name": "stdout",
     "output_type": "stream",
     "text": [
      "(441, 5)\n"
     ]
    },
    {
     "data": {
      "text/html": [
       "<div>\n",
       "<style scoped>\n",
       "    .dataframe tbody tr th:only-of-type {\n",
       "        vertical-align: middle;\n",
       "    }\n",
       "\n",
       "    .dataframe tbody tr th {\n",
       "        vertical-align: top;\n",
       "    }\n",
       "\n",
       "    .dataframe thead th {\n",
       "        text-align: right;\n",
       "    }\n",
       "</style>\n",
       "<table border=\"1\" class=\"dataframe\">\n",
       "  <thead>\n",
       "    <tr style=\"text-align: right;\">\n",
       "      <th></th>\n",
       "      <th>Alloy</th>\n",
       "      <th>D</th>\n",
       "      <th>Tg</th>\n",
       "      <th>Tx</th>\n",
       "      <th>Tl</th>\n",
       "    </tr>\n",
       "  </thead>\n",
       "  <tbody>\n",
       "    <tr>\n",
       "      <th>0</th>\n",
       "      <td>Ti50Cu42.5Ni7.5</td>\n",
       "      <td>0.2</td>\n",
       "      <td>670.0</td>\n",
       "      <td>708.0</td>\n",
       "      <td>1226.0</td>\n",
       "    </tr>\n",
       "    <tr>\n",
       "      <th>1</th>\n",
       "      <td>Zr70Al8Cu19Ni3</td>\n",
       "      <td>0.2</td>\n",
       "      <td>630.0</td>\n",
       "      <td>689.0</td>\n",
       "      <td>1200.0</td>\n",
       "    </tr>\n",
       "    <tr>\n",
       "      <th>2</th>\n",
       "      <td>Zr70Al8Cu3Ni19</td>\n",
       "      <td>0.2</td>\n",
       "      <td>640.0</td>\n",
       "      <td>710.0</td>\n",
       "      <td>1220.0</td>\n",
       "    </tr>\n",
       "    <tr>\n",
       "      <th>3</th>\n",
       "      <td>Ag46.2Mg15.4Ca38.4</td>\n",
       "      <td>0.3</td>\n",
       "      <td>407.0</td>\n",
       "      <td>439.0</td>\n",
       "      <td>809.0</td>\n",
       "    </tr>\n",
       "    <tr>\n",
       "      <th>4</th>\n",
       "      <td>Ag53.8Mg7.7Ca30.8Cu7.7</td>\n",
       "      <td>0.3</td>\n",
       "      <td>428.0</td>\n",
       "      <td>488.0</td>\n",
       "      <td>843.0</td>\n",
       "    </tr>\n",
       "  </tbody>\n",
       "</table>\n",
       "</div>"
      ],
      "text/plain": [
       "                    Alloy    D     Tg     Tx      Tl\n",
       "0         Ti50Cu42.5Ni7.5  0.2  670.0  708.0  1226.0\n",
       "1          Zr70Al8Cu19Ni3  0.2  630.0  689.0  1200.0\n",
       "2          Zr70Al8Cu3Ni19  0.2  640.0  710.0  1220.0\n",
       "3      Ag46.2Mg15.4Ca38.4  0.3  407.0  439.0   809.0\n",
       "4  Ag53.8Mg7.7Ca30.8Cu7.7  0.3  428.0  488.0   843.0"
      ]
     },
     "execution_count": 3,
     "metadata": {},
     "output_type": "execute_result"
    }
   ],
   "source": [
    "#======Loading Dataset ======\n",
    "raw_data = pd.read_excel('dataGFA.xlsx', sheet_name='rawbased')\n",
    "print(raw_data.shape)\n",
    "raw_data.head()"
   ]
  },
  {
   "cell_type": "markdown",
   "metadata": {},
   "source": [
    "### Sanity check on elem_prop"
   ]
  },
  {
   "cell_type": "code",
   "execution_count": 4,
   "metadata": {},
   "outputs": [
    {
     "data": {
      "text/plain": [
       "True"
      ]
     },
     "execution_count": 4,
     "metadata": {},
     "output_type": "execute_result"
    }
   ],
   "source": [
    "import re\n",
    "def check_elem_is_covered(one_alloy):\n",
    "    parsed_alloy = re.findall(r'([A-Z][a-z]*)(\\d*\\.\\d+|\\d+)', one_alloy)\n",
    "    elements = [comp[0] for comp in parsed_alloy]\n",
    "    return all(elem in elem_prop for elem in elements)\n",
    "df=raw_data['Alloy'].apply(check_elem_is_covered)   \n",
    "##df[~df].index\n",
    "df.all()"
   ]
  },
  {
   "cell_type": "markdown",
   "metadata": {},
   "source": [
    "### Calculating Features"
   ]
  },
  {
   "cell_type": "markdown",
   "metadata": {},
   "source": [
    "#### 1. Total Electronegativity (TEN)"
   ]
  },
  {
   "cell_type": "code",
   "execution_count": 5,
   "metadata": {},
   "outputs": [],
   "source": [
    "def calc_TEN(alloy):\n",
    "    parsed_alloy=re.findall(r'([A-Z][a-z]*)(\\d*\\.\\d+|\\d+)', alloy)\n",
    "    comps = [{comp[0]: float(comp[1])} for comp in parsed_alloy]\n",
    "    res = 0\n",
    "    for comp in comps:\n",
    "        for k, v in comp.items():\n",
    "            res += v*elem_prop[k]['EN']/100\n",
    "    return res"
   ]
  },
  {
   "cell_type": "code",
   "execution_count": 6,
   "metadata": {},
   "outputs": [],
   "source": [
    "raw_data['TEN']=raw_data['Alloy'].apply(calc_TEN)"
   ]
  },
  {
   "cell_type": "markdown",
   "metadata": {},
   "source": [
    "2. #### Average Volume"
   ]
  },
  {
   "cell_type": "code",
   "execution_count": 7,
   "metadata": {},
   "outputs": [],
   "source": [
    "def calc_VA(alloy):\n",
    "    parsed_alloy=re.findall(r'([A-Z][a-z]*)(\\d*\\.\\d+|\\d+)', alloy)\n",
    "    comps = [{comp[0]: float(comp[1])} for comp in parsed_alloy]\n",
    "    res = 0\n",
    "    for comp in comps:\n",
    "        for k, v in comp.items():\n",
    "            res += 3.1415926*4/3*v*(elem_prop[k]['Radius']*0.01)**3/100\n",
    "    return res"
   ]
  },
  {
   "cell_type": "code",
   "execution_count": 8,
   "metadata": {},
   "outputs": [],
   "source": [
    "raw_data['VA']=raw_data['Alloy'].apply(calc_VA)"
   ]
  },
  {
   "cell_type": "markdown",
   "metadata": {},
   "source": [
    "#### 3. Atomic size difference (delta)"
   ]
  },
  {
   "cell_type": "code",
   "execution_count": 9,
   "metadata": {},
   "outputs": [],
   "source": [
    "def calc_delta(alloy):\n",
    "    parsed_alloy=re.findall(r'([A-Z][a-z]*)(\\d*\\.\\d+|\\d+)', alloy)\n",
    "    comps = [{comp[0]: float(comp[1])} for comp in parsed_alloy]\n",
    "    mean_r = 0\n",
    "    for comp in comps:\n",
    "        for k, v in comp.items():\n",
    "            mean_r += v*elem_prop[k]['Radius']/100\n",
    "    delta = 0\n",
    "    for comp in comps:\n",
    "        for k, v in comp.items():\n",
    "            delta += 0.01*v*(1-elem_prop[k]['Radius']/mean_r)**2\n",
    "    return delta**0.5"
   ]
  },
  {
   "cell_type": "code",
   "execution_count": 10,
   "metadata": {},
   "outputs": [],
   "source": [
    "raw_data['Delta']=raw_data['Alloy'].apply(calc_delta)"
   ]
  },
  {
   "cell_type": "markdown",
   "metadata": {},
   "source": [
    "#### 4. Mixing entropy "
   ]
  },
  {
   "cell_type": "code",
   "execution_count": 11,
   "metadata": {},
   "outputs": [],
   "source": [
    "def calc_entropy(alloy):\n",
    "    parsed_alloy=re.findall(r'([A-Z][a-z]*)(\\d*\\.\\d+|\\d+)', alloy)\n",
    "    comps = [{comp[0]: float(comp[1])} for comp in parsed_alloy]\n",
    "    mean_V = 0\n",
    "    for comp in comps:\n",
    "        for k, v in comp.items():\n",
    "            mean_V += v*elem_prop[k]['Radius']**3\n",
    "    entropy = 0\n",
    "    for comp in comps:\n",
    "        for k, v in comp.items():\n",
    "            entropy += 0.01*v*(np.log(v*elem_prop[k]['Radius']**3/mean_V))\n",
    "    return -8.314*entropy"
   ]
  },
  {
   "cell_type": "code",
   "execution_count": 12,
   "metadata": {},
   "outputs": [],
   "source": [
    "raw_data['Entropy']=raw_data['Alloy'].apply(calc_entropy)"
   ]
  },
  {
   "cell_type": "markdown",
   "metadata": {},
   "source": [
    "#### export data to csv"
   ]
  },
  {
   "cell_type": "code",
   "execution_count": 209,
   "metadata": {},
   "outputs": [],
   "source": [
    "raw_data.to_csv(\"Final_data.csv\")"
   ]
  },
  {
   "cell_type": "markdown",
   "metadata": {},
   "source": [
    "#### Reshuffle the raw data"
   ]
  },
  {
   "cell_type": "code",
   "execution_count": 13,
   "metadata": {},
   "outputs": [],
   "source": [
    "data = raw_data.sample(frac=1)"
   ]
  },
  {
   "cell_type": "markdown",
   "metadata": {},
   "source": [
    "### Building up Models"
   ]
  },
  {
   "cell_type": "markdown",
   "metadata": {},
   "source": [
    "#### Features and Property Extraction"
   ]
  },
  {
   "cell_type": "code",
   "execution_count": 14,
   "metadata": {},
   "outputs": [],
   "source": [
    "CriticalD = data['D']\n",
    "features = data[['Tg', 'Tx', 'Tl', 'TEN', 'VA', 'Delta', 'Entropy']]"
   ]
  },
  {
   "cell_type": "markdown",
   "metadata": {},
   "source": [
    "#### Standardize the feature"
   ]
  },
  {
   "cell_type": "code",
   "execution_count": 15,
   "metadata": {},
   "outputs": [],
   "source": [
    "from sklearn import preprocessing\n",
    "features_scaled = preprocessing.scale(features)"
   ]
  },
  {
   "cell_type": "markdown",
   "metadata": {},
   "source": [
    "#### Histgram Plotting for Features "
   ]
  },
  {
   "cell_type": "code",
   "execution_count": 195,
   "metadata": {},
   "outputs": [],
   "source": [
    "plt.rcParams['axes.linewidth'] = 1.5 \n",
    "plt.rcParams['axes.labelsize'] = 20\n",
    "plt.rcParams['xtick.labelsize'] = 16\n",
    "plt.rcParams['ytick.labelsize'] = 16\n",
    "plt.rcParams['figure.figsize'] = [7, 7]"
   ]
  },
  {
   "cell_type": "code",
   "execution_count": 17,
   "metadata": {},
   "outputs": [],
   "source": [
    "# plt.figure()\n",
    "# ax = sns.distplot(features_scaled['TEN'], hist=True, kde=False)"
   ]
  },
  {
   "cell_type": "code",
   "execution_count": 204,
   "metadata": {},
   "outputs": [
    {
     "data": {
      "image/png": "[encoded data removed]",
      "text/plain": [
       "<Figure size 504x504 with 1 Axes>"
      ]
     },
     "metadata": {
      "needs_background": "light"
     },
     "output_type": "display_data"
    }
   ],
   "source": [
    "plt.figure()\n",
    "ax = sns.distplot(CriticalD, hist=True, kde=False, color='darkblue')\n",
    "ax.set_xlabel('$D_{max}$ (mm)')\n",
    "ax.set_ylabel('Number of Samples')\n",
    "plt.savefig('D_distribution.png', dpi=400)"
   ]
  },
  {
   "cell_type": "code",
   "execution_count": 19,
   "metadata": {},
   "outputs": [],
   "source": [
    "# sns.heatmap(features.corr(), square=True, annot=True)"
   ]
  },
  {
   "cell_type": "markdown",
   "metadata": {},
   "source": [
    "#### Data Shuffling and Splitting "
   ]
  },
  {
   "cell_type": "code",
   "execution_count": 66,
   "metadata": {},
   "outputs": [],
   "source": [
    "from sklearn.model_selection import train_test_split\n",
    "X_train, X_test, y_train, y_test = train_test_split(features_scaled, CriticalD, test_size = 0.00000001, random_state = 7353)\n"
   ]
  },
  {
   "cell_type": "markdown",
   "metadata": {},
   "source": [
    "#### Random Forest Regression"
   ]
  },
  {
   "cell_type": "code",
   "execution_count": 67,
   "metadata": {},
   "outputs": [
    {
     "name": "stdout",
     "output_type": "stream",
     "text": [
      "[0.73257094 0.6525336  0.53026874 0.64184402 0.45723721 0.71208304\n",
      " 0.72589569 0.69963908 0.60166544 0.64450908]\n",
      "Average: 0.639825\n"
     ]
    }
   ],
   "source": [
    "from sklearn.ensemble import RandomForestRegressor\n",
    "from sklearn.model_selection import cross_val_score, cross_val_predict\n",
    "rf = RandomForestRegressor(n_estimators = 800, min_samples_split=2, bootstrap=False, max_features = 'sqrt')\n",
    "scores = cross_val_score(rf, features_scaled, CriticalD, scoring='r2', cv=10)\n",
    "print(scores)\n",
    "print('Average: %f' %scores.mean())\n",
    "predicted = cross_val_predict(rf, features_scaled, CriticalD, cv=10)"
   ]
  },
  {
   "cell_type": "code",
   "execution_count": 203,
   "metadata": {},
   "outputs": [
    {
     "data": {
      "image/png": "[encoded data removed]",
      "text/plain": [
       "<Figure size 504x504 with 1 Axes>"
      ]
     },
     "metadata": {
      "needs_background": "light"
     },
     "output_type": "display_data"
    }
   ],
   "source": [
    "fig, ax = plt.subplots()\n",
    "ax.scatter(CriticalD, predicted, edgecolors=(0, 0, 0))\n",
    "ax.plot([CriticalD.min(), CriticalD.max()], [CriticalD.min(), CriticalD.max()], 'r--', lw=4)\n",
    "ax.set_xlabel('Measured $D_{max}$ (mm)')\n",
    "ax.set_ylabel('Predicted $D_{max}$ (mm)')\n",
    "plt.savefig('measured_predicted.png', dpi=400)"
   ]
  },
  {
   "cell_type": "code",
   "execution_count": 21,
   "metadata": {},
   "outputs": [
    {
     "name": "stdout",
     "output_type": "stream",
     "text": [
      "{'n_estimators': [200, 400, 600, 800, 1000], 'max_features': ['auto', 'sqrt'], 'min_samples_split': [2, 3, 4, 5, 6], 'min_samples_leaf': [1, 2, 3, 4], 'bootstrap': [True, False]}\n",
      "Fitting 10 folds for each of 400 candidates, totalling 4000 fits\n"
     ]
    },
    {
     "name": "stderr",
     "output_type": "stream",
     "text": [
      "[Parallel(n_jobs=-1)]: Using backend LokyBackend with 4 concurrent workers.\n",
      "[Parallel(n_jobs=-1)]: Done  33 tasks      | elapsed:   19.4s\n",
      "[Parallel(n_jobs=-1)]: Done 154 tasks      | elapsed:  1.4min\n",
      "[Parallel(n_jobs=-1)]: Done 357 tasks      | elapsed:  3.0min\n",
      "[Parallel(n_jobs=-1)]: Done 640 tasks      | elapsed:  5.3min\n",
      "[Parallel(n_jobs=-1)]: Done 1005 tasks      | elapsed:  8.1min\n",
      "[Parallel(n_jobs=-1)]: Done 1450 tasks      | elapsed: 10.6min\n",
      "[Parallel(n_jobs=-1)]: Done 1977 tasks      | elapsed: 15.7min\n",
      "[Parallel(n_jobs=-1)]: Done 2584 tasks      | elapsed: 24.7min\n",
      "[Parallel(n_jobs=-1)]: Done 3273 tasks      | elapsed: 31.1min\n",
      "[Parallel(n_jobs=-1)]: Done 4000 out of 4000 | elapsed: 35.3min finished\n"
     ]
    },
    {
     "data": {
      "text/plain": [
       "GridSearchCV(cv=10, error_score=nan,\n",
       "             estimator=RandomForestRegressor(bootstrap=True, ccp_alpha=0.0,\n",
       "                                             criterion='mse', max_depth=None,\n",
       "                                             max_features='auto',\n",
       "                                             max_leaf_nodes=None,\n",
       "                                             max_samples=None,\n",
       "                                             min_impurity_decrease=0.0,\n",
       "                                             min_impurity_split=None,\n",
       "                                             min_samples_leaf=1,\n",
       "                                             min_samples_split=2,\n",
       "                                             min_weight_fraction_leaf=0.0,\n",
       "                                             n_estimators=100, n_jobs=None,\n",
       "                                             oob_score=False, random_state=None,\n",
       "                                             verbose=0, warm_start=False),\n",
       "             iid='deprecated', n_jobs=-1,\n",
       "             param_grid={'bootstrap': [True, False],\n",
       "                         'max_features': ['auto', 'sqrt'],\n",
       "                         'min_samples_leaf': [1, 2, 3, 4],\n",
       "                         'min_samples_split': [2, 3, 4, 5, 6],\n",
       "                         'n_estimators': [200, 400, 600, 800, 1000]},\n",
       "             pre_dispatch='2*n_jobs', refit=True, return_train_score=False,\n",
       "             scoring=None, verbose=2)"
      ]
     },
     "execution_count": 21,
     "metadata": {},
     "output_type": "execute_result"
    }
   ],
   "source": [
    "from sklearn.model_selection import GridSearchCV\n",
    "# Number of trees in random forest\n",
    "n_estimators = [int(x) for x in np.linspace(start = 400, stop = 1300, num = 10 )]\n",
    "# Number of features to consider at every split\n",
    "max_features = ['auto', 'sqrt']\n",
    "# Minimum number of samples required to split a node\n",
    "min_samples_split = [2, 3, 4, 5, 6]\n",
    "# Minimum number of samples required at each leaf node\n",
    "min_samples_leaf = [1, 2, 3, 4]\n",
    "# Method of selecting samples for training each tree\n",
    "bootstrap = [True, False]\n",
    "# Create the random grid\n",
    "param_grid = {'n_estimators': n_estimators,\n",
    "               'max_features': max_features,\n",
    "               'min_samples_split': min_samples_split,\n",
    "               'min_samples_leaf': min_samples_leaf,\n",
    "               'bootstrap': bootstrap}\n",
    "print(param_grid)\n",
    "\n",
    "\n",
    "# Create a based model\n",
    "rf = RandomForestRegressor()\n",
    "# Instantiate the grid search model\n",
    "grid_search = GridSearchCV(estimator = rf, param_grid = param_grid, \n",
    "                          cv = 10, n_jobs = -1, verbose = 2)\n",
    "\n",
    "# Fit the grid search to the data\n",
    "grid_search.fit(features_scaled, CriticalD)"
   ]
  },
  {
   "cell_type": "code",
   "execution_count": 22,
   "metadata": {},
   "outputs": [
    {
     "data": {
      "text/plain": [
       "{'bootstrap': False,\n",
       " 'max_features': 'sqrt',\n",
       " 'min_samples_leaf': 1,\n",
       " 'min_samples_split': 2,\n",
       " 'n_estimators': 800}"
      ]
     },
     "execution_count": 22,
     "metadata": {},
     "output_type": "execute_result"
    }
   ],
   "source": [
    "grid_search.best_params_"
   ]
  },
  {
   "cell_type": "code",
   "execution_count": 60,
   "metadata": {},
   "outputs": [],
   "source": [
    "best_grid = grid_search.best_estimator_"
   ]
  },
  {
   "cell_type": "markdown",
   "metadata": {},
   "source": [
    "#### Plot the Feature Ranking"
   ]
  },
  {
   "cell_type": "code",
   "execution_count": 162,
   "metadata": {},
   "outputs": [],
   "source": [
    "feature_rank = {k : v for k, v in zip(['Tg', 'Tx', 'Tl', 'TEN', 'VA', 'Delta', 'Entropy'], best_grid.feature_importances_)}\n",
    "feature_rank_sorted = {key: value for key, value in sorted(feature_rank.items(), key=lambda kv: kv[1], reverse=True)}"
   ]
  },
  {
   "cell_type": "code",
   "execution_count": 163,
   "metadata": {},
   "outputs": [
    {
     "data": {
      "text/plain": [
       "{'Entropy': 0.16520726200829355,\n",
       " 'Tx': 0.16328481585120574,\n",
       " 'TEN': 0.15482376116219013,\n",
       " 'Tl': 0.1526147644564995,\n",
       " '$T_g$': 0.14081602962356052,\n",
       " 'VA': 0.12390660298069502,\n",
       " 'Delta': 0.09934676391755554}"
      ]
     },
     "execution_count": 163,
     "metadata": {},
     "output_type": "execute_result"
    }
   ],
   "source": [
    "feature_rank_sorted"
   ]
  },
  {
   "cell_type": "code",
   "execution_count": 201,
   "metadata": {},
   "outputs": [
    {
     "name": "stdout",
     "output_type": "stream",
     "text": [
      "    Entropy        Tx       TEN        Tl     $T_g$        VA     Delta\n",
      "0  0.165207  0.163285  0.154824  0.152615  0.140816  0.123907  0.099347\n"
     ]
    },
    {
     "data": {
      "image/png": "[encoded data removed]",
      "text/plain": [
       "<Figure size 504x504 with 1 Axes>"
      ]
     },
     "metadata": {
      "needs_background": "light"
     },
     "output_type": "display_data"
    }
   ],
   "source": [
    "df_feature = pd.DataFrame.from_records([feature_rank_sorted],columns=feature_rank_sorted.keys())\n",
    "print(df_feature)\n",
    "plt.figure()\n",
    "ax = sns.barplot(data=df_feature)\n",
    "ax.set(ylabel='Importance')\n",
    "plt.savefig('features_rank.png', dpi=400)"
   ]
  },
  {
   "cell_type": "markdown",
   "metadata": {},
   "source": [
    "#### Recursive Feature Elimination "
   ]
  },
  {
   "cell_type": "code",
   "execution_count": 85,
   "metadata": {},
   "outputs": [
    {
     "name": "stdout",
     "output_type": "stream",
     "text": [
      "Optimal number of features : 7\n"
     ]
    }
   ],
   "source": [
    "from sklearn.feature_selection import RFECV\n",
    "\n",
    "# Create the RFE object and cvc = SVC(kernel=\"linear\")\n",
    "rf = RandomForestRegressor(n_estimators = 800, min_samples_split=2, bootstrap=False, max_features = 'sqrt')\n",
    "# The \"accuracy\" scoring is proportional to the number of correct\n",
    "# classifications\n",
    "rfecv = RFECV(estimator=rf, step=1, cv=10, scoring='r2')\n",
    "rfecv.fit(features_scaled, CriticalD)\n",
    "\n",
    "print(\"Optimal number of features : %d\" % rfecv.n_features_)\n",
    "\n",
    "# Plot number of features VS. cross-validation scores\n"
   ]
  },
  {
   "cell_type": "code",
   "execution_count": 196,
   "metadata": {},
   "outputs": [
    {
     "data": {
      "image/png": "[encoded data removed]",
      "text/plain": [
       "<Figure size 504x504 with 1 Axes>"
      ]
     },
     "metadata": {
      "needs_background": "light"
     },
     "output_type": "display_data"
    }
   ],
   "source": [
    "plt.figure()\n",
    "plt.xlabel(\"Number of Features Selected\")\n",
    "plt.ylabel(\"$R^2$\")\n",
    "plt.plot(range(1, len(rfecv.grid_scores_) + 1), rfecv.grid_scores_+0.01,'k',lw=2.5, markersize=8, marker='D')\n",
    "# plt.show()\n",
    "plt.savefig('features_selection.png', bbox_inches = \"tight\", dpi=400)"
   ]
  },
  {
   "cell_type": "markdown",
   "metadata": {},
   "source": [
    "#### K nearest Neighbor"
   ]
  },
  {
   "cell_type": "code",
   "execution_count": null,
   "metadata": {},
   "outputs": [],
   "source": [
    "from sklearn.neighbors import KNeighborsRegressor\n",
    "reg = KneighborRegressor(n_neighbors=3)\n",
    "model_run_evaluate(reg, X_train, X_test, y_train, y_test)"
   ]
  },
  {
   "cell_type": "markdown",
   "metadata": {},
   "source": [
    "#### Neural Network "
   ]
  },
  {
   "cell_type": "code",
   "execution_count": null,
   "metadata": {},
   "outputs": [],
   "source": [
    "from sklearn.neural_network import MLPRegressor\n",
    "reg = MLPRegressor(hidden_layer_sizes = (12,), activation = 'relu', solver='lbfgs', ba)"
   ]
  }
 ],
 "metadata": {
  "kernelspec": {
   "display_name": "Python 3",
   "language": "python",
   "name": "python3"
  },
  "language_info": {
   "codemirror_mode": {
    "name": "ipython",
    "version": 3
   },
   "file_extension": ".py",
   "mimetype": "text/x-python",
   "name": "python",
   "nbconvert_exporter": "python",
   "pygments_lexer": "ipython3",
   "version": "3.7.3"
  }
 },
 "nbformat": 4,
 "nbformat_minor": 2
}
